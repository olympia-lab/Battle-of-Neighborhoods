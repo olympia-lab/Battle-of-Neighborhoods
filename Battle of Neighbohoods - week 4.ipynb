{
 "cells": [
  {
   "cell_type": "markdown",
   "metadata": {
    "collapsed": true
   },
   "source": [
    "# Analysing Cheltenham Area for Property Investment\n",
    "\n",
    "## Background\n",
    "\n",
    "After Brexit was confirmed in January 2020 more retirees are looking into the opportunities to move back to UK. There are many nice regions for people to live on their retirement and one of them is Cotswolds. Cotswold area is very popular among retiaries in the UK. It is the Area of Outstanding Natural beauty and thus considered to be holidays and SPA destination. There is also a race course located in the town of Cheltenham which attracts thousands of people every race event. Thus as the area is very popular the housing market is hot. It showed growing sales in February 2020 according to local estate agents.\n",
    "\n",
    "## Business Problem\n",
    "\n",
    "With the pandemic situation around the world and lockdowns it is not possible to move around and explore the area on property hunt. People still will be interested in the property market after lockdown lifted. According to Knight Frank predictions prices may fall about 3% during lockdown period but then they will come back up to 5%. Taking into account that the mortgage rates are also very attractive it creates even better picture for housing market recovery.\n",
    "We are going to analyse the area clustering it by housing prices and amenities available to create the picture of the area so it is easier for people to understand the area from long distance and narrow their search.\n",
    "\n",
    "## Data Section\n",
    "\n",
    "Luckily the housing market data is publicly available from the government data base https://www.gov.uk/government/statistical-data-sets/price-paid-data-downloads. We can download the data containing \n",
    "•\tPostcode\n",
    "•\tPAON Primary Addressable Object Name. Typically the house number or name\n",
    "•\tSAON Secondary Addressable Object Name. If there is a sub-building, for example, the building is divided into flats, there will be a SAON.\n",
    "•\tStreet\n",
    "•\tLocality\n",
    "•\tTown/City\n",
    "•\tDistrict\n",
    "•\tCounty\n",
    "We will use FourSquare API to combine housing data with local amenities and cluster them to define preferable area for buying a property.\n",
    "\n",
    "## Workflow\n",
    "\n",
    "The following workflow will be used in this project.\n",
    "1.\tData collection \n",
    "2.\tData inspection and understanding\n",
    "3.\tData preparation and processing\n",
    "4.\tData modelling using k-Nearest Neighbor Algorithm\n",
    "5.\tVisualization\n",
    "6.\tSummary of the project results\n",
    "\n"
   ]
  }
 ],
 "metadata": {
  "kernelspec": {
   "display_name": "Python 3.6",
   "language": "python",
   "name": "python3"
  },
  "language_info": {
   "codemirror_mode": {
    "name": "ipython",
    "version": 3
   },
   "file_extension": ".py",
   "mimetype": "text/x-python",
   "name": "python",
   "nbconvert_exporter": "python",
   "pygments_lexer": "ipython3",
   "version": "3.6.9"
  }
 },
 "nbformat": 4,
 "nbformat_minor": 1
}
